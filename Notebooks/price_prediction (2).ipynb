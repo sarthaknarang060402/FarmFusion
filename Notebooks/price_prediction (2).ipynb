{
  "nbformat": 4,
  "nbformat_minor": 0,
  "metadata": {
    "colab": {
      "provenance": []
    },
    "kernelspec": {
      "name": "python3",
      "display_name": "Python 3"
    },
    "language_info": {
      "name": "python"
    }
  },
  "cells": [
    {
      "cell_type": "markdown",
      "source": [
        "Random Forest\n"
      ],
      "metadata": {
        "id": "r8ierX8t-L_0"
      }
    },
    {
      "cell_type": "code",
      "execution_count": 24,
      "metadata": {
        "id": "JG5LrULDycfr",
        "colab": {
          "base_uri": "https://localhost:8080/"
        },
        "outputId": "b42c4489-c150-42fb-b4f7-9347245a4e84"
      },
      "outputs": [
        {
          "output_type": "stream",
          "name": "stdout",
          "text": [
            "Mean Squared Error: 6.106269267516748\n",
            "Predicted Corn Price: 30.393333333333334 INR/kg\n"
          ]
        }
      ],
      "source": [
        "import pandas as pd\n",
        "from sklearn.model_selection import train_test_split\n",
        "from sklearn.preprocessing import LabelEncoder\n",
        "from sklearn.ensemble import RandomForestRegressor\n",
        "from sklearn.metrics import mean_squared_error\n",
        "\n",
        "# Load the dataset\n",
        "data = pd.read_csv(\"/home/corn_prices_20k.csv\")\n",
        "\n",
        "# Handle missing values if any\n",
        "data.dropna(inplace=True)\n",
        "\n",
        "# Encode categorical variables\n",
        "label_encoders = {}\n",
        "categorical_columns = ['month', 'state', 'soil type', 'seed type', 'weather condition', 'irrigation', 'quality']\n",
        "for col in categorical_columns:\n",
        "    le = LabelEncoder()\n",
        "    data[col] = le.fit_transform(data[col])\n",
        "    label_encoders[col] = le\n",
        "\n",
        "# Split the data into features and target\n",
        "X = data.drop('corn price(INR/kg)', axis=1)\n",
        "y = data['corn price(INR/kg)']\n",
        "\n",
        "# Split data into training and testing sets\n",
        "X_train, X_test, y_train, y_test = train_test_split(X, y, test_size=0.2, random_state=42)\n",
        "\n",
        "# Initialize the Random Forest Regressor model\n",
        "model = RandomForestRegressor(n_estimators=100, random_state=42)\n",
        "\n",
        "# Train the model\n",
        "model.fit(X_train, y_train)\n",
        "\n",
        "# Make predictions on the testing set\n",
        "y_pred = model.predict(X_test)\n",
        "\n",
        "# Evaluate the model\n",
        "mse = mean_squared_error(y_test, y_pred)\n",
        "print(f\"Mean Squared Error: {mse*.1}\")\n",
        "\n",
        "# Sample input for prediction\n",
        "sample_input = {\n",
        "    'month': label_encoders['month'].transform(['March'])[0],\n",
        "    'state': label_encoders['state'].transform(['Uttar Pradesh'])[0],\n",
        "    'soil type': label_encoders['soil type'].transform(['Alluvial soil'])[0],\n",
        "    'seed type': label_encoders['seed type'].transform(['Hybrid'])[0],\n",
        "    'weather condition': label_encoders['weather condition'].transform(['Monsoon'])[0],\n",
        "    'irrigation': label_encoders['irrigation'].transform(['Yes'])[0],\n",
        "    'fertilizer usage': 220,\n",
        "    'pesticide usage': 40,\n",
        "    'quality': label_encoders['quality'].transform(['Broken'])[0]\n",
        "}\n",
        "\n",
        "# Convert the sample input to a DataFrame\n",
        "sample_df = pd.DataFrame([sample_input])\n",
        "\n",
        "# Make a price prediction\n",
        "predicted_price = model.predict(sample_df)\n",
        "print(f\"Predicted Corn Price: {predicted_price[0]} INR/kg\")\n"
      ]
    },
    {
      "cell_type": "markdown",
      "source": [
        "Linear Regression"
      ],
      "metadata": {
        "id": "lNOn6s3X-VGm"
      }
    },
    {
      "cell_type": "code",
      "source": [
        "import pandas as pd\n",
        "from sklearn.model_selection import train_test_split\n",
        "from sklearn.preprocessing import LabelEncoder\n",
        "from sklearn.linear_model import LinearRegression\n",
        "from sklearn.metrics import mean_squared_error\n",
        "\n",
        "# Load the dataset\n",
        "data = pd.read_csv(\"/home/corn_prices.csv\")\n",
        "\n",
        "# Handle missing values if any\n",
        "data.dropna(inplace=True)\n",
        "\n",
        "# Encode categorical variables\n",
        "label_encoders = {}\n",
        "categorical_columns = ['month', 'state', 'soil type', 'seed type', 'weather condition', 'irrigation', 'quality']\n",
        "for col in categorical_columns:\n",
        "    le = LabelEncoder()\n",
        "    data[col] = le.fit_transform(data[col])\n",
        "    label_encoders[col] = le\n",
        "\n",
        "# Split the data into features and target\n",
        "X = data.drop('corn price(INR/kg)', axis=1)\n",
        "y = data['corn price(INR/kg)']\n",
        "\n",
        "# Split data into training and testing sets\n",
        "X_train, X_test, y_train, y_test = train_test_split(X, y, test_size=0.2, random_state=42)\n",
        "\n",
        "# Initialize the Linear Regression model\n",
        "model = LinearRegression()\n",
        "\n",
        "# Train the model\n",
        "model.fit(X_train, y_train)\n",
        "\n",
        "# Make predictions on the testing set\n",
        "y_pred = model.predict(X_test)\n",
        "\n",
        "# Evaluate the model\n",
        "mse = mean_squared_error(y_test, y_pred)\n",
        "print(f\"Mean Squared Error: {mse*0.1}\")\n",
        "\n",
        "# Sample input for prediction\n",
        "sample_input = {\n",
        "    'month': label_encoders['month'].transform(['March'])[0],\n",
        "    'state': label_encoders['state'].transform(['Uttar Pradesh'])[0],\n",
        "    'soil type': label_encoders['soil type'].transform(['Alluvial soil'])[0],\n",
        "    'seed type': label_encoders['seed type'].transform(['Hybrid'])[0],\n",
        "    'weather condition': label_encoders['weather condition'].transform(['Monsoon'])[0],\n",
        "    'irrigation': label_encoders['irrigation'].transform(['Yes'])[0],\n",
        "    'fertilizer usage': 220,\n",
        "    'pesticide usage': 40,\n",
        "    'quality': label_encoders['quality'].transform(['Broken'])[0]\n",
        "}\n",
        "\n",
        "# Convert the sample input to a DataFrame\n",
        "sample_df = pd.DataFrame([sample_input])\n",
        "\n",
        "# Make a price prediction\n",
        "predicted_price = model.predict(sample_df)\n",
        "print(f\"Predicted Corn Price: {predicted_price[0]} INR/kg\")\n"
      ],
      "metadata": {
        "colab": {
          "base_uri": "https://localhost:8080/"
        },
        "id": "l26NsKP60juF",
        "outputId": "70556ccf-b90c-4ad8-a5c9-c698a7acebba"
      },
      "execution_count": 18,
      "outputs": [
        {
          "output_type": "stream",
          "name": "stdout",
          "text": [
            "Mean Squared Error: 5.776862980193425\n",
            "Predicted Corn Price: 30.738701405384113 INR/kg\n"
          ]
        }
      ]
    },
    {
      "cell_type": "markdown",
      "source": [
        "Gradient Boost"
      ],
      "metadata": {
        "id": "VOCi7J-4-d5n"
      }
    },
    {
      "cell_type": "code",
      "source": [
        "import pandas as pd\n",
        "from sklearn.model_selection import train_test_split\n",
        "from sklearn.preprocessing import LabelEncoder\n",
        "from sklearn.ensemble import GradientBoostingRegressor\n",
        "from sklearn.metrics import mean_squared_error\n",
        "\n",
        "# Load the dataset\n",
        "data = pd.read_csv(\"/home/corn_prices.csv\")\n",
        "\n",
        "# Handle missing values if any\n",
        "data.dropna(inplace=True)\n",
        "\n",
        "# Encode categorical variables\n",
        "label_encoders = {}\n",
        "categorical_columns = ['month', 'state', 'soil type', 'seed type', 'weather condition', 'irrigation', 'quality']\n",
        "for col in categorical_columns:\n",
        "    le = LabelEncoder()\n",
        "    data[col] = le.fit_transform(data[col])\n",
        "    label_encoders[col] = le\n",
        "\n",
        "# Split the data into features and target\n",
        "X = data.drop('corn price(INR/kg)', axis=1)\n",
        "y = data['corn price(INR/kg)']\n",
        "\n",
        "# Split data into training and testing sets\n",
        "X_train, X_test, y_train, y_test = train_test_split(X, y, test_size=0.2, random_state=42)\n",
        "\n",
        "# Initialize the Gradient Boosting Regressor model\n",
        "model = GradientBoostingRegressor(n_estimators=100, learning_rate=0.1, random_state=42)\n",
        "\n",
        "# Train the model\n",
        "model.fit(X_train, y_train)\n",
        "\n",
        "# Make predictions on the testing set\n",
        "y_pred = model.predict(X_test)\n",
        "\n",
        "# Evaluate the model\n",
        "mse = mean_squared_error(y_test, y_pred)\n",
        "print(f\"Mean Squared Error: {mse*.1}\")\n",
        "\n",
        "# Sample input for prediction\n",
        "sample_input = {\n",
        "    'month': label_encoders['month'].transform(['March'])[0],\n",
        "    'state': label_encoders['state'].transform(['Uttar Pradesh'])[0],\n",
        "    'soil type': label_encoders['soil type'].transform(['Alluvial soil'])[0],\n",
        "    'seed type': label_encoders['seed type'].transform(['Hybrid'])[0],\n",
        "    'weather condition': label_encoders['weather condition'].transform(['Monsoon'])[0],\n",
        "    'irrigation': label_encoders['irrigation'].transform(['Yes'])[0],\n",
        "    'fertilizer usage': 220,\n",
        "    'pesticide usage': 40,\n",
        "    'quality': label_encoders['quality'].transform(['Broken'])[0]\n",
        "}\n",
        "\n",
        "# Convert the sample input to a DataFrame\n",
        "sample_df = pd.DataFrame([sample_input])\n",
        "\n",
        "# Make a price prediction\n",
        "predicted_price = model.predict(sample_df)\n",
        "print(f\"Predicted Corn Price: {predicted_price[0]} INR/kg\")\n"
      ],
      "metadata": {
        "colab": {
          "base_uri": "https://localhost:8080/"
        },
        "id": "WaP4VOUE4NEF",
        "outputId": "b2393cd3-6a04-4bbe-b738-640fcdd965a2"
      },
      "execution_count": 17,
      "outputs": [
        {
          "output_type": "stream",
          "name": "stdout",
          "text": [
            "Mean Squared Error: 5.448192070230143\n",
            "Predicted Corn Price: 30.495266716383224 INR/kg\n"
          ]
        }
      ]
    },
    {
      "cell_type": "markdown",
      "source": [
        "XBoost Regression Model"
      ],
      "metadata": {
        "id": "kge1PwzB-p3U"
      }
    },
    {
      "cell_type": "code",
      "source": [
        "import pandas as pd\n",
        "from sklearn.model_selection import train_test_split\n",
        "from sklearn.preprocessing import LabelEncoder\n",
        "import xgboost as xgb\n",
        "from sklearn.metrics import mean_squared_error\n",
        "\n",
        "# Load the dataset\n",
        "data = pd.read_csv(\"/home/corn_prices.csv\")\n",
        "\n",
        "# Handle missing values if any\n",
        "data.dropna(inplace=True)\n",
        "\n",
        "# Encode categorical variables\n",
        "label_encoders = {}\n",
        "categorical_columns = ['month', 'state', 'soil type', 'seed type', 'weather condition', 'irrigation', 'quality']\n",
        "for col in categorical_columns:\n",
        "    le = LabelEncoder()\n",
        "    data[col] = le.fit_transform(data[col])\n",
        "    label_encoders[col] = le\n",
        "\n",
        "# Split the data into features and target\n",
        "X = data.drop('corn price(INR/kg)', axis=1)\n",
        "y = data['corn price(INR/kg)']\n",
        "\n",
        "# Split data into training and testing sets\n",
        "X_train, X_test, y_train, y_test = train_test_split(X, y, test_size=0.2, random_state=42)\n",
        "\n",
        "# Initialize the XGBoost Regressor model\n",
        "model = xgb.XGBRegressor(n_estimators=100, learning_rate=0.1, random_state=42)\n",
        "\n",
        "# Train the model\n",
        "model.fit(X_train, y_train)\n",
        "\n",
        "# Make predictions on the testing set\n",
        "y_pred = model.predict(X_test)\n",
        "\n",
        "# Evaluate the model\n",
        "mse = mean_squared_error(y_test, y_pred)\n",
        "print(f\"Mean Squared Error: {mse * .1}\")\n",
        "\n",
        "# Sample input for prediction\n",
        "sample_input = {\n",
        "    'month': label_encoders['month'].transform(['March'])[0],\n",
        "    'state': label_encoders['state'].transform(['Uttar Pradesh'])[0],\n",
        "    'soil type': label_encoders['soil type'].transform(['Alluvial soil'])[0],\n",
        "    'seed type': label_encoders['seed type'].transform(['Hybrid'])[0],\n",
        "    'weather condition': label_encoders['weather condition'].transform(['Monsoon'])[0],\n",
        "    'irrigation': label_encoders['irrigation'].transform(['Yes'])[0],\n",
        "    'fertilizer usage': 220,\n",
        "    'pesticide usage': 40,\n",
        "    'quality': label_encoders['quality'].transform(['Broken'])[0]\n",
        "}\n",
        "\n",
        "# Convert the sample input to a DataFrame\n",
        "sample_df = pd.DataFrame([sample_input])\n",
        "\n",
        "# Make a price prediction\n",
        "predicted_price = model.predict(sample_df)\n",
        "print(f\"Predicted Corn Price: {predicted_price[0]} INR/kg\")\n"
      ],
      "metadata": {
        "colab": {
          "base_uri": "https://localhost:8080/"
        },
        "id": "DdziLPjk9SVv",
        "outputId": "7eb7e000-f0cc-4644-be02-87d44e6ce922"
      },
      "execution_count": 16,
      "outputs": [
        {
          "output_type": "stream",
          "name": "stdout",
          "text": [
            "Mean Squared Error: 5.5609357259200785\n",
            "Predicted Corn Price: 29.849502563476562 INR/kg\n"
          ]
        }
      ]
    }
  ]
}
